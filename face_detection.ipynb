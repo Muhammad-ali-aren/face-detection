{
  "nbformat": 4,
  "nbformat_minor": 0,
  "metadata": {
    "colab": {
      "provenance": [],
      "authorship_tag": "ABX9TyNri7LRW/mvINveWaOJcbOs",
      "include_colab_link": true
    },
    "kernelspec": {
      "name": "python3",
      "display_name": "Python 3"
    },
    "language_info": {
      "name": "python"
    }
  },
  "cells": [
    {
      "cell_type": "markdown",
      "metadata": {
        "id": "view-in-github",
        "colab_type": "text"
      },
      "source": [
        "<a href=\"https://colab.research.google.com/github/Muhammad-ali-aren/face-detection/blob/main/face_detection.ipynb\" target=\"_parent\"><img src=\"https://colab.research.google.com/assets/colab-badge.svg\" alt=\"Open In Colab\"/></a>"
      ]
    },
    {
      "cell_type": "code",
      "execution_count": null,
      "metadata": {
        "id": "LykqEPK4vLfu"
      },
      "outputs": [],
      "source": [
        "import torch\n",
        "import os\n",
        "import xml.etree.ElementTree as ET"
      ]
    },
    {
      "cell_type": "code",
      "source": [
        "from google.colab import drive\n",
        "drive.mount('drive')"
      ],
      "metadata": {
        "colab": {
          "base_uri": "https://localhost:8080/"
        },
        "id": "gQCAm8krSvNs",
        "outputId": "d502386d-c810-43a8-95a5-28e3cf47f347"
      },
      "execution_count": null,
      "outputs": [
        {
          "output_type": "stream",
          "name": "stdout",
          "text": [
            "Mounted at drive\n"
          ]
        }
      ]
    },
    {
      "cell_type": "markdown",
      "source": [
        "import the data\n"
      ],
      "metadata": {
        "id": "iJxyCCK-vfQN"
      }
    },
    {
      "cell_type": "code",
      "source": [
        "path_images = r'drive/MyDrive/face_detection/images'\n",
        "path_annotations = r'drive/MyDrive/face_detection/annotations'\n",
        "\n",
        "def load_images_annotations(path_images,path_annotations):\n",
        "    images_info = []\n",
        "    images_list = []\n",
        "    for image_name in os.listdir(path_images):\n",
        "        images_list.append(image_name.split('.')[0])\n",
        "\n",
        "    for image in images_list:\n",
        "        image_info = {}\n",
        "        annotation_path = os.path.join(path_annotations, image + '.xml')\n",
        "        tree = ET.parse(annotation_path)\n",
        "        root = tree.getroot()\n",
        "        image_info['image_name'] = image\n",
        "        image_info['height'] = root.find('size').find('height').text\n",
        "        image_info['width'] = root.find('size').find('width').text\n",
        "        image_info['depth'] = root.find('size').find('depth').text\n",
        "\n",
        "        detections = []\n",
        "        for objects in root.findall('object'):\n",
        "            det = {}\n",
        "            det['class_name'] = objects.find('name').text\n",
        "            bndbox = objects.find('bndbox')\n",
        "            xmin = bndbox.find('xmin').text\n",
        "            ymin = bndbox.find('ymin').text\n",
        "            xmax = bndbox.find('xmax').text\n",
        "            ymax = bndbox.find('ymax').text\n",
        "            det['bndbox'] = [xmin,ymin,xmax,ymax]\n",
        "            detections.append(det)\n",
        "        image_info['detections'] = detections\n",
        "        images_info.append(image_info)\n",
        "    return images_info\n",
        "\n",
        "\n",
        "images_info = load_images_annotations(path_images,path_annotations)\n"
      ],
      "metadata": {
        "id": "tnRaCc_KvcN5"
      },
      "execution_count": null,
      "outputs": []
    },
    {
      "cell_type": "code",
      "source": [],
      "metadata": {
        "id": "QC4HcAZTZh-D"
      },
      "execution_count": null,
      "outputs": []
    }
  ]
}